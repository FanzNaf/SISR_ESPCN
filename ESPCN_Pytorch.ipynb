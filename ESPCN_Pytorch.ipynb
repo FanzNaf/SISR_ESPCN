{
  "cells": [
    {
      "cell_type": "markdown",
      "metadata": {
        "id": "view-in-github",
        "colab_type": "text"
      },
      "source": [
        "<a href=\"https://colab.research.google.com/github/FanzNaf/SISR_ESPCN/blob/main/ESPCN_Pytorch.ipynb\" target=\"_parent\"><img src=\"https://colab.research.google.com/assets/colab-badge.svg\" alt=\"Open In Colab\"/></a>"
      ]
    },
    {
      "cell_type": "markdown",
      "metadata": {
        "id": "BSIOX9FkHia1"
      },
      "source": [
        "# **Mount drive**"
      ]
    },
    {
      "cell_type": "code",
      "execution_count": 3,
      "metadata": {
        "id": "kGW-_MQ5qf-i",
        "colab": {
          "base_uri": "https://localhost:8080/"
        },
        "outputId": "e8a277ae-bcef-4b4f-88a7-35665f4365e9"
      },
      "outputs": [
        {
          "output_type": "stream",
          "name": "stdout",
          "text": [
            "Mounted at /content/drive\n"
          ]
        }
      ],
      "source": [
        "from google.colab import drive\n",
        "drive.mount('/content/drive')"
      ]
    },
    {
      "cell_type": "markdown",
      "metadata": {
        "id": "0qFuIBWYtEA-"
      },
      "source": [
        "# **Train**"
      ]
    },
    {
      "cell_type": "code",
      "execution_count": null,
      "metadata": {
        "id": "LcU9BP0LoZ6y",
        "colab": {
          "base_uri": "https://localhost:8080/"
        },
        "outputId": "37bfd088-e8d1-4f0e-fef8-da0124c20614"
      },
      "outputs": [
        {
          "output_type": "stream",
          "name": "stdout",
          "text": [
            "Cloning into 'ESPCN-Pytorch'...\n",
            "remote: Enumerating objects: 336, done.\u001b[K\n",
            "remote: Counting objects: 100% (3/3), done.\u001b[K\n",
            "remote: Compressing objects: 100% (2/2), done.\u001b[K\n",
            "remote: Total 336 (delta 1), reused 1 (delta 1), pack-reused 333\u001b[K\n",
            "Receiving objects: 100% (336/336), 49.32 MiB | 43.84 MiB/s, done.\n",
            "Resolving deltas: 100% (50/50), done.\n"
          ]
        }
      ],
      "source": [
        "!git clone https://github.com/Nhat-Thanh/ESPCN-Pytorch.git"
      ]
    },
    {
      "cell_type": "code",
      "execution_count": null,
      "metadata": {
        "id": "aCxs66QIs9JU",
        "colab": {
          "base_uri": "https://localhost:8080/"
        },
        "outputId": "98dc5e53-c9b9-44eb-8e9b-b0b0241315dd"
      },
      "outputs": [
        {
          "output_type": "stream",
          "name": "stdout",
          "text": [
            "/content/ESPCN-Pytorch\n"
          ]
        }
      ],
      "source": [
        "%cd /content/ESPCN-Pytorch/"
      ]
    },
    {
      "cell_type": "code",
      "execution_count": null,
      "metadata": {
        "id": "bcFmW-Z2xpt8",
        "colab": {
          "base_uri": "https://localhost:8080/"
        },
        "outputId": "f42215e0-af35-4f96-b009-538932e9bbc2"
      },
      "outputs": [
        {
          "output_type": "stream",
          "name": "stdout",
          "text": [
            "Already up to date.\n"
          ]
        }
      ],
      "source": [
        "!git pull"
      ]
    },
    {
      "cell_type": "code",
      "execution_count": null,
      "metadata": {
        "id": "NNnil1fwpvPQ"
      },
      "outputs": [],
      "source": [
        "# Train with scale x2\n",
        "!rm -rf dataset/*.npy\n",
        "!python train.py  --steps=300000              \\\n",
        "                  --scale=2                   \\\n",
        "                  --batch_size=128            \\\n",
        "                  --save-best-only=0          \\\n",
        "                  --save-every=1000           \\\n",
        "                  --save-log=0                \\\n",
        "                  --ckpt-dir=\"checkpoint/x2\""
      ]
    },
    {
      "cell_type": "code",
      "execution_count": 2,
      "metadata": {
        "id": "8IamtstajgzB",
        "colab": {
          "base_uri": "https://localhost:8080/"
        },
        "outputId": "dab3b603-c8b7-4d27-e4ee-1d690e3d6c2c"
      },
      "outputs": [
        {
          "output_type": "stream",
          "name": "stdout",
          "text": [
            "python3: can't open file '/content/train.py': [Errno 2] No such file or directory\n"
          ]
        }
      ],
      "source": [
        "# Train with scale x3\n",
        "!rm -rf dataset/*.npy\n",
        "!python train.py  --steps=300000              \\\n",
        "                  --scale=3                   \\\n",
        "                  --batch_size=128            \\\n",
        "                  --save-best-only=0          \\\n",
        "                  --save-every=1000           \\\n",
        "                  --save-log=0                \\\n",
        "                  --ckpt-dir=\"checkpoint/x3\""
      ]
    },
    {
      "cell_type": "code",
      "execution_count": 1,
      "metadata": {
        "id": "wJAhH_XVIr9m",
        "colab": {
          "base_uri": "https://localhost:8080/"
        },
        "outputId": "d391a94c-362e-422d-865f-9dda69968c29"
      },
      "outputs": [
        {
          "output_type": "stream",
          "name": "stdout",
          "text": [
            "python3: can't open file '/content/train.py': [Errno 2] No such file or directory\n"
          ]
        }
      ],
      "source": [
        "# Train with scale x4\n",
        "!rm -rf dataset/*.npy\n",
        "!python train.py  --steps=300000              \\\n",
        "                  --scale=4                   \\\n",
        "                  --batch_size=128            \\\n",
        "                  --save-best-only=0          \\\n",
        "                  --save-every=1000           \\\n",
        "                  --save-log=0                \\\n",
        "                  --ckpt-dir=\"checkpoint/x4\""
      ]
    },
    {
      "cell_type": "markdown",
      "metadata": {
        "id": "KhmsHWA94vSQ"
      },
      "source": [
        "# **Test**"
      ]
    },
    {
      "cell_type": "code",
      "execution_count": null,
      "metadata": {
        "id": "TG5oBG1T4vST",
        "colab": {
          "base_uri": "https://localhost:8080/"
        },
        "outputId": "8a2f3064-5a30-4ada-fc23-33b5824a9ce9"
      },
      "outputs": [
        {
          "output_type": "stream",
          "name": "stdout",
          "text": [
            "38.84495544433594\n",
            "34.660394287109376\n",
            "32.064630126953126\n"
          ]
        }
      ],
      "source": [
        "# Test on Set5\n",
        "!python test.py --scale=2 --ckpt-path=\"default\"\n",
        "!python test.py --scale=3 --ckpt-path=\"default\"\n",
        "!python test.py --scale=4 --ckpt-path=\"default\""
      ]
    },
    {
      "cell_type": "markdown",
      "metadata": {
        "id": "HNMxCqEnIm5B"
      },
      "source": [
        "# **Demo**"
      ]
    },
    {
      "cell_type": "code",
      "execution_count": null,
      "metadata": {
        "id": "6LEod8iiyE2t"
      },
      "outputs": [],
      "source": [
        "!python demo.py --image-path=\"dataset/test1.png\" \\\n",
        "                --ckpt-path=\"default\"            \\\n",
        "                --scale=2"
      ]
    },
    {
      "cell_type": "markdown",
      "metadata": {
        "id": "mXR3GIR_RumX"
      },
      "source": [
        "# **Dataset files**"
      ]
    },
    {
      "cell_type": "code",
      "execution_count": null,
      "metadata": {
        "id": "Y5PICMo-ThER",
        "colab": {
          "base_uri": "https://localhost:8080/"
        },
        "outputId": "81049dce-c3e8-49ac-8dca-b43c1117b882"
      },
      "outputs": [
        {
          "output_type": "stream",
          "name": "stdout",
          "text": [
            "Writing dataset-files.sh\n"
          ]
        }
      ],
      "source": [
        "%%writefile dataset-files.sh\n",
        "\n",
        "OPTION=$1\n",
        "DATASET_DIR=\"/content/ESPCN-Pytorch/dataset\"\n",
        "DRIVE_DIR=\"/content/drive/MyDrive/ESPCN-Pytorch\"\n",
        "SUBSETS=(\"train\" \"validation\" \"test\")\n",
        "TYPE=(\"data\" \"labels\")\n",
        "\n",
        "mkdir -p ${DRIVE_DIR}\n",
        "for type in ${TYPE[*]}; do\n",
        "    for subset in ${SUBSETS[*]}; do\n",
        "        # copy all generated dataset files to your drive\n",
        "        if [ \"$OPTION\" == \"copy to drive\" ]; then\n",
        "            cp -vf ${DATASET_DIR}/${type}_${subset}.npy ${DRIVE_DIR}\n",
        "\n",
        "        # copy all saved dataset files from your drive to dataset directory\n",
        "        elif [ \"$OPTION\" == \"copy from drive\" ]; then\n",
        "            cp -vf ${DRIVE_DIR}/${type}_${subset}.npy   ${DATASET_DIR}\n",
        "\n",
        "        # delete all generated dataset files in dataset directory\n",
        "        elif [ \"${OPTION}\" == \"remove\" ]; then\n",
        "            rm -vf ${DATASET_DIR}/${type}_${subset}.npy\n",
        "        fi\n",
        "    done\n",
        "done"
      ]
    },
    {
      "cell_type": "code",
      "execution_count": null,
      "metadata": {
        "id": "1n2cLVMYUDx3"
      },
      "outputs": [],
      "source": [
        "# !bash dataset-files.sh \"copy to drive\"\n",
        "# !bash dataset-files.sh \"copy from drive\"\n",
        "# !bash dataset-files.sh \"remove\""
      ]
    },
    {
      "cell_type": "markdown",
      "metadata": {
        "id": "APDYH1_F6Rum"
      },
      "source": [
        "# **Checkpoint**"
      ]
    },
    {
      "cell_type": "code",
      "execution_count": null,
      "metadata": {
        "id": "UJu5zeBgtdDL",
        "colab": {
          "base_uri": "https://localhost:8080/"
        },
        "outputId": "9f9ec65a-6576-48a0-a42d-7ba7241ad5c0"
      },
      "outputs": [
        {
          "output_type": "stream",
          "name": "stdout",
          "text": [
            "Writing ckpt.sh\n"
          ]
        }
      ],
      "source": [
        "%%writefile ckpt.sh\n",
        "OPTION=$1\n",
        "\n",
        "DRIVE_DIR=\"/content/drive/MyDrive/ESPCN-Pytorch\"\n",
        "SRC=\"/content/ESPCN-Pytorch/checkpoint\"\n",
        "DES=\"${DRIVE_DIR}/checkpoint\"\n",
        "SUBSETS=(\"x2\" \"x3\" \"x4\")\n",
        "\n",
        "mkdir -p ${DRIVE_DIR}\n",
        "for subset in ${SUBSETS[*]}; do\n",
        "    # remove all checkpoint files in sub-directories in checkpoint directory\n",
        "    if [ \"${OPTION}\" == \"remove\" ]; then\n",
        "        rm -vrf ${SRC}/${subset}\n",
        "        mkdir -p ${SRC}/${subset}\n",
        "\n",
        "    # copy all checkpoint directories to your drive\n",
        "    elif [ \"${OPTION}\" == \"copy to drive\" ]; then\n",
        "        mkdir -p ${DES}\n",
        "        mkdir -p ${DES}/${subset}\n",
        "        cp -vrf ${SRC}/${subset}/. ${DES}/${subset}\n",
        "\n",
        "    # copy all saved checkpoint files from your drive to checkpoint directory\n",
        "    elif [ \"${OPTION}\" == \"copy from drive\" ]; then\n",
        "        mkdir -p ${SRC}\n",
        "        mkdir -p ${SRC}/${subset}\n",
        "        cp -vrf ${DES}/${subset}/. ${SRC}/${subset}\n",
        "    fi\n",
        "\n",
        "done"
      ]
    },
    {
      "cell_type": "code",
      "execution_count": null,
      "metadata": {
        "id": "K3r9vXdj2pE3"
      },
      "outputs": [],
      "source": [
        "# !bash ckpt.sh \"copy from drive\"\n",
        "# !bash ckpt.sh \"copy to drive\"\n",
        "# !bash ckpt.sh \"remove\""
      ]
    }
  ],
  "metadata": {
    "accelerator": "GPU",
    "colab": {
      "provenance": [],
      "include_colab_link": true
    },
    "kernelspec": {
      "display_name": "Python 3",
      "name": "python3"
    },
    "language_info": {
      "name": "python"
    }
  },
  "nbformat": 4,
  "nbformat_minor": 0
}